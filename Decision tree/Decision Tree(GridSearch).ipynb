{
 "cells": [
  {
   "cell_type": "markdown",
   "id": "a7611444",
   "metadata": {},
   "source": [
    "<a target=\"_blank\" href=\"https://colab.research.google.com/github/lingeshkv/machine_learning/\">\n",
    "  <img src=\"https://colab.research.google.com/assets/colab-badge.svg\" alt=\"Open In Colab\"/>\n",
    "</a>"
   ]
  },
  {
   "cell_type": "code",
   "execution_count": null,
   "id": "cfd37a67",
   "metadata": {},
   "outputs": [],
   "source": [
    "!git clone https://github.com/lingeshkv/machine_learning.git"
   ]
  },
  {
   "cell_type": "code",
   "execution_count": 10,
   "id": "b4a0b16d",
   "metadata": {},
   "outputs": [],
   "source": [
    "#importing required libraries\n",
    "\n",
    "import numpy as np\n",
    "import pandas as pd\n",
    "import sklearn\n",
    "from sklearn.metrics import classification_report as cr\n",
    "from sklearn.tree import DecisionTreeClassifier as DTC\n",
    "from sklearn.model_selection import train_test_split\n",
    "from sklearn import tree\n",
    "from sklearn.model_selection import cross_val_score as cvs\n",
    "from sklearn.model_selection import GridSearchCV"
   ]
  },
  {
   "cell_type": "code",
   "execution_count": 2,
   "id": "3aebbad6",
   "metadata": {},
   "outputs": [],
   "source": [
    "#reading the data from .csv file\n",
    "\n",
    "df = pd.read_csv(\"pima-indians-diabetes.csv\",names = [\"f1\",\"f2\",\"f3\",\"f4\",\"f5\",\"f6\",\"f7\",\"f8\",\"label\"])"
   ]
  },
  {
   "cell_type": "code",
   "execution_count": 3,
   "id": "e150e76f",
   "metadata": {},
   "outputs": [
    {
     "data": {
      "text/html": [
       "<div>\n",
       "<style scoped>\n",
       "    .dataframe tbody tr th:only-of-type {\n",
       "        vertical-align: middle;\n",
       "    }\n",
       "\n",
       "    .dataframe tbody tr th {\n",
       "        vertical-align: top;\n",
       "    }\n",
       "\n",
       "    .dataframe thead th {\n",
       "        text-align: right;\n",
       "    }\n",
       "</style>\n",
       "<table border=\"1\" class=\"dataframe\">\n",
       "  <thead>\n",
       "    <tr style=\"text-align: right;\">\n",
       "      <th></th>\n",
       "      <th>f1</th>\n",
       "      <th>f2</th>\n",
       "      <th>f3</th>\n",
       "      <th>f4</th>\n",
       "      <th>f5</th>\n",
       "      <th>f6</th>\n",
       "      <th>f7</th>\n",
       "      <th>f8</th>\n",
       "      <th>label</th>\n",
       "    </tr>\n",
       "  </thead>\n",
       "  <tbody>\n",
       "    <tr>\n",
       "      <th>0</th>\n",
       "      <td>6</td>\n",
       "      <td>148</td>\n",
       "      <td>72</td>\n",
       "      <td>35</td>\n",
       "      <td>0</td>\n",
       "      <td>33.6</td>\n",
       "      <td>0.627</td>\n",
       "      <td>50</td>\n",
       "      <td>1</td>\n",
       "    </tr>\n",
       "    <tr>\n",
       "      <th>1</th>\n",
       "      <td>1</td>\n",
       "      <td>85</td>\n",
       "      <td>66</td>\n",
       "      <td>29</td>\n",
       "      <td>0</td>\n",
       "      <td>26.6</td>\n",
       "      <td>0.351</td>\n",
       "      <td>31</td>\n",
       "      <td>0</td>\n",
       "    </tr>\n",
       "    <tr>\n",
       "      <th>2</th>\n",
       "      <td>8</td>\n",
       "      <td>183</td>\n",
       "      <td>64</td>\n",
       "      <td>0</td>\n",
       "      <td>0</td>\n",
       "      <td>23.3</td>\n",
       "      <td>0.672</td>\n",
       "      <td>32</td>\n",
       "      <td>1</td>\n",
       "    </tr>\n",
       "    <tr>\n",
       "      <th>3</th>\n",
       "      <td>1</td>\n",
       "      <td>89</td>\n",
       "      <td>66</td>\n",
       "      <td>23</td>\n",
       "      <td>94</td>\n",
       "      <td>28.1</td>\n",
       "      <td>0.167</td>\n",
       "      <td>21</td>\n",
       "      <td>0</td>\n",
       "    </tr>\n",
       "    <tr>\n",
       "      <th>4</th>\n",
       "      <td>0</td>\n",
       "      <td>137</td>\n",
       "      <td>40</td>\n",
       "      <td>35</td>\n",
       "      <td>168</td>\n",
       "      <td>43.1</td>\n",
       "      <td>2.288</td>\n",
       "      <td>33</td>\n",
       "      <td>1</td>\n",
       "    </tr>\n",
       "  </tbody>\n",
       "</table>\n",
       "</div>"
      ],
      "text/plain": [
       "   f1   f2  f3  f4   f5    f6     f7  f8  label\n",
       "0   6  148  72  35    0  33.6  0.627  50      1\n",
       "1   1   85  66  29    0  26.6  0.351  31      0\n",
       "2   8  183  64   0    0  23.3  0.672  32      1\n",
       "3   1   89  66  23   94  28.1  0.167  21      0\n",
       "4   0  137  40  35  168  43.1  2.288  33      1"
      ]
     },
     "execution_count": 3,
     "metadata": {},
     "output_type": "execute_result"
    }
   ],
   "source": [
    "df.head()"
   ]
  },
  {
   "cell_type": "code",
   "execution_count": 4,
   "id": "33b58c31",
   "metadata": {},
   "outputs": [
    {
     "data": {
      "text/plain": [
       "(768, 9)"
      ]
     },
     "execution_count": 4,
     "metadata": {},
     "output_type": "execute_result"
    }
   ],
   "source": [
    "df.shape"
   ]
  },
  {
   "cell_type": "code",
   "execution_count": 5,
   "id": "f800d519",
   "metadata": {},
   "outputs": [],
   "source": [
    "#splitting dataset into features and labels\n",
    "\n",
    "df1 = df.values\n",
    "\n",
    "data = df1[:,0:8]\n",
    "labels = df1[:,8:]"
   ]
  },
  {
   "cell_type": "code",
   "execution_count": 6,
   "id": "19f12644",
   "metadata": {},
   "outputs": [],
   "source": [
    "#train test split\n",
    "(tr_data,test_data,tr_label,test_label) = train_test_split(df,labels,test_size = 0.25,random_state=42)"
   ]
  },
  {
   "cell_type": "code",
   "execution_count": 12,
   "id": "77c74d3e",
   "metadata": {},
   "outputs": [],
   "source": [
    "#hyperparameter values\n",
    "\n",
    "param = {'criterion' : ['gini','entropy','log_loss'],\n",
    "        'max_depth' : range(1,21),\n",
    "        'max_features' : range(1,data.shape[1]+1)}\n",
    "report = {}"
   ]
  },
  {
   "cell_type": "code",
   "execution_count": 13,
   "id": "411bc9fc",
   "metadata": {},
   "outputs": [],
   "source": [
    "dt = DTC()"
   ]
  },
  {
   "cell_type": "code",
   "execution_count": 14,
   "id": "27dc29f3",
   "metadata": {},
   "outputs": [],
   "source": [
    "grid_search = GridSearchCV(dt,param)"
   ]
  },
  {
   "cell_type": "code",
   "execution_count": 15,
   "id": "3353f47a",
   "metadata": {},
   "outputs": [
    {
     "name": "stderr",
     "output_type": "stream",
     "text": [
      "D:\\Anaconda\\lib\\site-packages\\sklearn\\model_selection\\_validation.py:372: FitFailedWarning: \n",
      "800 fits failed out of a total of 2400.\n",
      "The score on these train-test partitions for these parameters will be set to nan.\n",
      "If these failures are not expected, you can try to debug them by setting error_score='raise'.\n",
      "\n",
      "Below are more details about the failures:\n",
      "--------------------------------------------------------------------------------\n",
      "800 fits failed with the following error:\n",
      "Traceback (most recent call last):\n",
      "  File \"D:\\Anaconda\\lib\\site-packages\\sklearn\\model_selection\\_validation.py\", line 680, in _fit_and_score\n",
      "    estimator.fit(X_train, y_train, **fit_params)\n",
      "  File \"D:\\Anaconda\\lib\\site-packages\\sklearn\\tree\\_classes.py\", line 937, in fit\n",
      "    super().fit(\n",
      "  File \"D:\\Anaconda\\lib\\site-packages\\sklearn\\tree\\_classes.py\", line 352, in fit\n",
      "    criterion = CRITERIA_CLF[self.criterion](\n",
      "KeyError: 'log_loss'\n",
      "\n",
      "  warnings.warn(some_fits_failed_message, FitFailedWarning)\n",
      "D:\\Anaconda\\lib\\site-packages\\sklearn\\model_selection\\_search.py:969: UserWarning: One or more of the test scores are non-finite: [0.65107946 0.72586207 0.83347826 0.83869565 0.89043478 1.\n",
      " 0.95       1.         0.72043478 0.79695652 0.9773913  0.8456072\n",
      " 0.9426087  1.         0.98956522 1.         0.68757121 0.82304348\n",
      " 0.93574213 0.93218891 1.         1.         1.         1.\n",
      " 0.84233883 0.95304348 0.96521739 0.97043478 1.         1.\n",
      " 1.         1.         0.87668666 0.94091454 0.92001499 1.\n",
      " 1.         0.99826087 1.         1.         0.96       0.88718141\n",
      " 0.96524738 0.98613193 0.99655172 1.         1.         1.\n",
      " 0.88028486 0.92358321 0.98782609 0.99304348 1.         1.\n",
      " 1.         1.         0.80202399 0.94086957 0.98434783 0.99826087\n",
      " 0.99652174 1.         1.         1.         0.89409295 0.96523238\n",
      " 0.96176912 0.98089955 0.99826087 1.         1.         1.\n",
      " 0.87685157 0.95478261 0.95653673 0.98434783 1.         1.\n",
      " 1.         1.         0.85778111 0.94436282 0.97569715 0.98613193\n",
      " 1.         1.         1.         1.         0.85928036 0.92521739\n",
      " 0.96347826 0.99481259 1.         1.         0.99826087 1.\n",
      " 0.89929535 0.95830585 0.99304348 0.98608696 1.         1.\n",
      " 1.         1.         0.92872564 0.96869565 0.97742129 0.99655172\n",
      " 1.         1.         1.         1.         0.89917541 0.95838081\n",
      " 0.97574213 1.         0.99826087 1.         1.         1.\n",
      " 0.91155922 0.97043478 0.97043478 0.99652174 1.         1.\n",
      " 1.         1.         0.89233883 0.95829085 0.97043478 0.99652174\n",
      " 0.99826087 0.99482759 1.         1.         0.94289355 0.9498051\n",
      " 0.96869565 1.         0.98956522 1.         1.         1.\n",
      " 0.83163418 0.97043478 0.94608696 0.99310345 0.99478261 0.99478261\n",
      " 1.         1.         0.922009   0.94436282 0.9791904  1.\n",
      " 1.         1.         1.         1.         0.67542729 0.67364318\n",
      " 0.79478261 0.84913043 0.93043478 0.93043478 0.94434783 1.\n",
      " 0.77397301 0.70652174 0.86782609 0.93088456 0.89391304 0.96521739\n",
      " 0.97565217 1.         0.77622189 0.81617691 0.87652174 0.95826087\n",
      " 1.         1.         0.95130435 1.         0.85391304 0.88742129\n",
      " 0.95304348 0.98434783 0.99826087 0.99827586 1.         1.\n",
      " 0.84718141 0.92733133 0.95305847 0.98956522 1.         1.\n",
      " 1.         1.         0.90454273 0.89761619 0.97913043 0.98964018\n",
      " 1.         0.99826087 1.         1.         0.88547226 0.97395802\n",
      " 0.95826087 0.99652174 1.         1.         1.         1.\n",
      " 0.91827586 0.91164918 0.9826087  0.99652174 1.         1.\n",
      " 1.         1.         0.83842579 0.90638681 0.96695652 1.\n",
      " 0.99137931 1.         0.99655172 1.         0.93754123 0.9446027\n",
      " 0.95665667 1.         0.99482759 1.         1.         1.\n",
      " 0.91478261 0.97056972 0.98617691 0.99827586 0.99826087 1.\n",
      " 1.         1.         0.90095952 0.95833583 0.98434783 1.\n",
      " 0.99482759 1.         1.         1.         0.90805097 0.9426087\n",
      " 0.9773913  0.99481259 0.99826087 1.         1.         0.99826087\n",
      " 0.87149925 0.92724138 0.94626687 0.97217391 0.98443778 1.\n",
      " 1.         1.         0.94782609 0.93913043 0.97221889 0.99826087\n",
      " 1.         1.         1.         1.         0.88898051 0.94091454\n",
      " 0.99478261 1.         1.         1.         0.99652174 1.\n",
      " 0.97392804 0.96       0.96173913 0.99130435 0.99826087 1.\n",
      " 1.         1.         0.90106447 0.97572714 0.97232384 0.99655172\n",
      " 1.         1.         1.         1.         0.89247376 0.96178411\n",
      " 0.97224888 0.98089955 1.         1.         1.         1.\n",
      " 0.88011994 0.9773913  0.97391304 1.         0.99478261 0.99826087\n",
      " 1.         1.                nan        nan        nan        nan\n",
      "        nan        nan        nan        nan        nan        nan\n",
      "        nan        nan        nan        nan        nan        nan\n",
      "        nan        nan        nan        nan        nan        nan\n",
      "        nan        nan        nan        nan        nan        nan\n",
      "        nan        nan        nan        nan        nan        nan\n",
      "        nan        nan        nan        nan        nan        nan\n",
      "        nan        nan        nan        nan        nan        nan\n",
      "        nan        nan        nan        nan        nan        nan\n",
      "        nan        nan        nan        nan        nan        nan\n",
      "        nan        nan        nan        nan        nan        nan\n",
      "        nan        nan        nan        nan        nan        nan\n",
      "        nan        nan        nan        nan        nan        nan\n",
      "        nan        nan        nan        nan        nan        nan\n",
      "        nan        nan        nan        nan        nan        nan\n",
      "        nan        nan        nan        nan        nan        nan\n",
      "        nan        nan        nan        nan        nan        nan\n",
      "        nan        nan        nan        nan        nan        nan\n",
      "        nan        nan        nan        nan        nan        nan\n",
      "        nan        nan        nan        nan        nan        nan\n",
      "        nan        nan        nan        nan        nan        nan\n",
      "        nan        nan        nan        nan        nan        nan\n",
      "        nan        nan        nan        nan        nan        nan\n",
      "        nan        nan        nan        nan        nan        nan\n",
      "        nan        nan        nan        nan        nan        nan\n",
      "        nan        nan        nan        nan        nan        nan\n",
      "        nan        nan        nan        nan        nan        nan]\n",
      "  warnings.warn(\n"
     ]
    },
    {
     "data": {
      "text/plain": [
       "GridSearchCV(estimator=DecisionTreeClassifier(),\n",
       "             param_grid={'criterion': ['gini', 'entropy', 'log_loss'],\n",
       "                         'max_depth': range(1, 21),\n",
       "                         'max_features': range(1, 9)})"
      ]
     },
     "execution_count": 15,
     "metadata": {},
     "output_type": "execute_result"
    }
   ],
   "source": [
    "grid_search.fit(tr_data,tr_label)"
   ]
  },
  {
   "cell_type": "code",
   "execution_count": 16,
   "id": "9a7faa34",
   "metadata": {},
   "outputs": [
    {
     "name": "stdout",
     "output_type": "stream",
     "text": [
      "Best parameters: {'criterion': 'gini', 'max_depth': 1, 'max_features': 6}\n"
     ]
    }
   ],
   "source": [
    "print(\"Best parameters:\", grid_search.best_params_)"
   ]
  }
 ],
 "metadata": {
  "kernelspec": {
   "display_name": "Python 3 (ipykernel)",
   "language": "python",
   "name": "python3"
  },
  "language_info": {
   "codemirror_mode": {
    "name": "ipython",
    "version": 3
   },
   "file_extension": ".py",
   "mimetype": "text/x-python",
   "name": "python",
   "nbconvert_exporter": "python",
   "pygments_lexer": "ipython3",
   "version": "3.9.13"
  }
 },
 "nbformat": 4,
 "nbformat_minor": 5
}
